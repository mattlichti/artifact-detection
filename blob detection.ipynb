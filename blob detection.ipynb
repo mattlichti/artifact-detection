{
 "metadata": {
  "name": "",
  "signature": "sha256:ef68767a9ea455ca950e79a1ec9fb21730dd3a1de5d82b90625d774f079be7c2"
 },
 "nbformat": 3,
 "nbformat_minor": 0,
 "worksheets": [
  {
   "cells": [
    {
     "cell_type": "code",
     "collapsed": false,
     "input": [
      "from matplotlib import pyplot as plt\n",
      "from skimage.feature import blob_doh\n",
      "from skimage import io\n",
      "import matplotlib.cm as cm\n"
     ],
     "language": "python",
     "metadata": {},
     "outputs": [],
     "prompt_number": 26
    },
    {
     "cell_type": "code",
     "collapsed": false,
     "input": [
      "# a = io.imread('3scan/test.png')\n",
      "a = io.imread('3scan/bubble.png')"
     ],
     "language": "python",
     "metadata": {},
     "outputs": [],
     "prompt_number": 32
    },
    {
     "cell_type": "code",
     "collapsed": false,
     "input": [
      "image = a[0:3000, 500:2000]"
     ],
     "language": "python",
     "metadata": {},
     "outputs": [],
     "prompt_number": 48
    },
    {
     "cell_type": "code",
     "collapsed": false,
     "input": [
      "blobs_doh = blob_doh(image, max_sigma=200, min_sigma=10, threshold=.015)\n",
      "title = ['Determinant of Hessian']"
     ],
     "language": "python",
     "metadata": {},
     "outputs": [],
     "prompt_number": 49
    },
    {
     "cell_type": "code",
     "collapsed": false,
     "input": [
      "fig, ax = plt.subplots(1, 1)\n",
      "ax.set_title(title)\n",
      "ax.imshow(image,cmap = cm.Greys_r)\n",
      "for blob in blobs_doh:\n",
      "    y, x, r = blob\n",
      "    c = plt.Circle((x, y), r, color='red', linewidth=2, fill=False)\n",
      "    ax.add_patch(c)\n",
      "\n",
      "plt.show()"
     ],
     "language": "python",
     "metadata": {},
     "outputs": [],
     "prompt_number": 50
    },
    {
     "cell_type": "code",
     "collapsed": false,
     "input": [
      "blobs_doh"
     ],
     "language": "python",
     "metadata": {},
     "outputs": [
      {
       "metadata": {},
       "output_type": "pyout",
       "prompt_number": 44,
       "text": [
        "array([], dtype=float64)"
       ]
      }
     ],
     "prompt_number": 44
    },
    {
     "cell_type": "code",
     "collapsed": false,
     "input": [],
     "language": "python",
     "metadata": {},
     "outputs": []
    }
   ],
   "metadata": {}
  }
 ]
}