{
 "metadata": {
  "name": "",
  "signature": "sha256:e86255e2cedf62912ef87a74130283f3c8fe9fc3f1c8b6abbe2a81f5bd6a74fa"
 },
 "nbformat": 3,
 "nbformat_minor": 0,
 "worksheets": [
  {
   "cells": [
    {
     "cell_type": "code",
     "collapsed": false,
     "input": [
      "import numpy as np\n",
      "import matplotlib.pyplot as plt\n",
      "\n",
      "from skimage import data, color\n",
      "from skimage.transform import hough_circle\n",
      "from skimage.feature import peak_local_max, canny\n",
      "from skimage.draw import circle_perimeter\n",
      "from skimage.util import img_as_ubyte"
     ],
     "language": "python",
     "metadata": {},
     "outputs": [],
     "prompt_number": 1
    },
    {
     "cell_type": "code",
     "collapsed": false,
     "input": [
      "# Load picture and detect edges\n",
      "image = img_as_ubyte(data.coins()[0:95, 70:370])\n",
      "edges = canny(image, sigma=3, low_threshold=10, high_threshold=50)\n",
      "\n",
      "fig, ax = plt.subplots(ncols=1, nrows=1, figsize=(5, 2))\n",
      "\n",
      "# Detect two radii\n",
      "hough_radii = np.arange(15, 30, 2)\n",
      "hough_res = hough_circle(edges, hough_radii)\n",
      "\n",
      "centers = []\n",
      "accums = []\n",
      "radii = []\n",
      "\n",
      "for radius, h in zip(hough_radii, hough_res):\n",
      "    # For each radius, extract two circles\n",
      "    num_peaks = 2\n",
      "    peaks = peak_local_max(h, num_peaks=num_peaks)\n",
      "    centers.extend(peaks)\n",
      "    accums.extend(h[peaks[:, 0], peaks[:, 1]])\n",
      "    radii.extend([radius] * num_peaks)\n",
      "\n",
      "# Draw the most prominent 5 circles\n",
      "image = color.gray2rgb(image)\n",
      "for idx in np.argsort(accums)[::-1][:6]:\n",
      "    center_x, center_y = centers[idx]\n",
      "    radius = radii[idx]\n",
      "    cx, cy = circle_perimeter(center_y, center_x, radius)\n",
      "    image[cy, cx] = (220, 20, 20)\n",
      "\n",
      "ax.imshow(image, cmap=plt.cm.gray)"
     ],
     "language": "python",
     "metadata": {},
     "outputs": [
      {
       "metadata": {},
       "output_type": "pyout",
       "prompt_number": 5,
       "text": [
        "<matplotlib.image.AxesImage at 0x7fbf9fb3dc10>"
       ]
      }
     ],
     "prompt_number": 5
    },
    {
     "cell_type": "code",
     "collapsed": false,
     "input": [
      "plt.show()"
     ],
     "language": "python",
     "metadata": {},
     "outputs": [],
     "prompt_number": 6
    },
    {
     "cell_type": "code",
     "collapsed": false,
     "input": [
      "sorted(accums)"
     ],
     "language": "python",
     "metadata": {},
     "outputs": [
      {
       "metadata": {},
       "output_type": "pyout",
       "prompt_number": 7,
       "text": [
        "[0.20238095238095252,\n",
        " 0.23750000000000013,\n",
        " 0.28846153846153844,\n",
        " 0.29861111111111099,\n",
        " 0.30681818181818171,\n",
        " 0.31818181818181807,\n",
        " 0.375,\n",
        " 0.38749999999999962,\n",
        " 0.38888888888888845,\n",
        " 0.43750000000000039,\n",
        " 0.4453125,\n",
        " 0.49264705882352855,\n",
        " 0.50000000000000056,\n",
        " 0.5119047619047612,\n",
        " 0.51470588235294024,\n",
        " 0.57692307692307709]"
       ]
      }
     ],
     "prompt_number": 7
    },
    {
     "cell_type": "code",
     "collapsed": false,
     "input": [
      "edges"
     ],
     "language": "python",
     "metadata": {},
     "outputs": [
      {
       "metadata": {},
       "output_type": "pyout",
       "prompt_number": 8,
       "text": [
        "array([[False, False, False, ..., False, False, False],\n",
        "       [False, False, False, ..., False, False, False],\n",
        "       [False, False, False, ..., False, False, False],\n",
        "       ..., \n",
        "       [False, False, False, ..., False, False, False],\n",
        "       [False, False, False, ..., False, False, False],\n",
        "       [False, False, False, ..., False, False, False]], dtype=bool)"
       ]
      }
     ],
     "prompt_number": 8
    },
    {
     "cell_type": "code",
     "collapsed": false,
     "input": [
      "edges.shape"
     ],
     "language": "python",
     "metadata": {},
     "outputs": [
      {
       "metadata": {},
       "output_type": "pyout",
       "prompt_number": 11,
       "text": [
        "(95, 300)"
       ]
      }
     ],
     "prompt_number": 11
    },
    {
     "cell_type": "code",
     "collapsed": false,
     "input": [
      "image.shape"
     ],
     "language": "python",
     "metadata": {},
     "outputs": [
      {
       "metadata": {},
       "output_type": "pyout",
       "prompt_number": 12,
       "text": [
        "(95, 300, 3)"
       ]
      }
     ],
     "prompt_number": 12
    },
    {
     "cell_type": "code",
     "collapsed": false,
     "input": [],
     "language": "python",
     "metadata": {},
     "outputs": []
    }
   ],
   "metadata": {}
  }
 ]
}